{
 "cells": [
  {
   "cell_type": "code",
   "execution_count": 2,
   "metadata": {},
   "outputs": [],
   "source": [
    "import numpy as np\n",
    "from scipy.signal import periodogram\n",
    "from scipy.stats import norm\n",
    "from matplotlib import pyplot as plt"
   ]
  },
  {
   "cell_type": "code",
   "execution_count": 3,
   "metadata": {},
   "outputs": [],
   "source": [
    "# Data to be transmitted\n",
    "msg = np.random.randint(low=0, high=2, size=int(1e3))\n",
    "# BPSK parameters\n",
    "Eb = 0.001\n",
    "fc = 100\n",
    "fs = 10000\n",
    "Tb = 0.001"
   ]
  },
  {
   "cell_type": "code",
   "execution_count": 4,
   "metadata": {},
   "outputs": [
    {
     "ename": "KeyboardInterrupt",
     "evalue": "",
     "output_type": "error",
     "traceback": [
      "\u001b[0;31m---------------------------------------------------------------------------\u001b[0m",
      "\u001b[0;31mKeyboardInterrupt\u001b[0m                         Traceback (most recent call last)",
      "\u001b[0;32m<ipython-input-4-3ced9bfdbeb5>\u001b[0m in \u001b[0;36m<module>\u001b[0;34m\u001b[0m\n\u001b[1;32m      3\u001b[0m \u001b[0mt\u001b[0m \u001b[0;34m=\u001b[0m \u001b[0mnp\u001b[0m\u001b[0;34m.\u001b[0m\u001b[0mlinspace\u001b[0m\u001b[0;34m(\u001b[0m\u001b[0;36m0\u001b[0m\u001b[0;34m,\u001b[0m \u001b[0mTb\u001b[0m\u001b[0;34m,\u001b[0m \u001b[0mint\u001b[0m\u001b[0;34m(\u001b[0m\u001b[0mTb\u001b[0m\u001b[0;34m*\u001b[0m\u001b[0mfs\u001b[0m\u001b[0;34m)\u001b[0m\u001b[0;34m)\u001b[0m\u001b[0;34m\u001b[0m\u001b[0;34m\u001b[0m\u001b[0m\n\u001b[1;32m      4\u001b[0m \u001b[0;32mfor\u001b[0m \u001b[0mi\u001b[0m \u001b[0;32min\u001b[0m \u001b[0mmsg\u001b[0m\u001b[0;34m:\u001b[0m\u001b[0;34m\u001b[0m\u001b[0;34m\u001b[0m\u001b[0m\n\u001b[0;32m----> 5\u001b[0;31m     \u001b[0ms\u001b[0m \u001b[0;34m=\u001b[0m \u001b[0mnp\u001b[0m\u001b[0;34m.\u001b[0m\u001b[0msqrt\u001b[0m\u001b[0;34m(\u001b[0m\u001b[0;36m2\u001b[0m\u001b[0;34m*\u001b[0m\u001b[0mEb\u001b[0m\u001b[0;34m/\u001b[0m\u001b[0mTb\u001b[0m\u001b[0;34m)\u001b[0m\u001b[0;34m*\u001b[0m\u001b[0mnp\u001b[0m\u001b[0;34m.\u001b[0m\u001b[0msin\u001b[0m\u001b[0;34m(\u001b[0m\u001b[0;36m2\u001b[0m\u001b[0;34m*\u001b[0m\u001b[0mnp\u001b[0m\u001b[0;34m.\u001b[0m\u001b[0mpi\u001b[0m\u001b[0;34m*\u001b[0m\u001b[0mfc\u001b[0m\u001b[0;34m*\u001b[0m\u001b[0mt\u001b[0m\u001b[0;34m)\u001b[0m\u001b[0;34m\u001b[0m\u001b[0;34m\u001b[0m\u001b[0m\n\u001b[0m\u001b[1;32m      6\u001b[0m     \u001b[0;32mif\u001b[0m \u001b[0mi\u001b[0m \u001b[0;34m==\u001b[0m \u001b[0;36m0\u001b[0m\u001b[0;34m:\u001b[0m\u001b[0;34m\u001b[0m\u001b[0;34m\u001b[0m\u001b[0m\n\u001b[1;32m      7\u001b[0m         \u001b[0ms\u001b[0m \u001b[0;34m=\u001b[0m \u001b[0;34m-\u001b[0m\u001b[0ms\u001b[0m\u001b[0;34m\u001b[0m\u001b[0;34m\u001b[0m\u001b[0m\n",
      "\u001b[0;31mKeyboardInterrupt\u001b[0m: "
     ]
    }
   ],
   "source": [
    "# PSK Transmitter\n",
    "signal = []\n",
    "t = np.linspace(0, Tb, int(Tb*fs))\n",
    "for i in msg:\n",
    "    s = np.sqrt(2*Eb/Tb)*np.sin(2*np.pi*fc*t)\n",
    "    if i == 0:\n",
    "        s = -s\n",
    "    signal.extend(s)\n",
    "t = np.linspace(0, len(msg)*Tb,int(len(msg)*Tb*fs))\n",
    "\n",
    "fig, ax = plt.subplots()\n",
    "ax.plot(t, signal)"
   ]
  },
  {
   "cell_type": "code",
   "execution_count": 1,
   "metadata": {},
   "outputs": [
    {
     "ename": "NameError",
     "evalue": "name 'signal' is not defined",
     "output_type": "error",
     "traceback": [
      "\u001b[0;31m---------------------------------------------------------------------------\u001b[0m",
      "\u001b[0;31mNameError\u001b[0m                                 Traceback (most recent call last)",
      "\u001b[0;32m<ipython-input-1-c4a47f7c0601>\u001b[0m in \u001b[0;36m<module>\u001b[0;34m\u001b[0m\n\u001b[1;32m      1\u001b[0m \u001b[0;31m# Noise\u001b[0m\u001b[0;34m\u001b[0m\u001b[0;34m\u001b[0m\u001b[0;34m\u001b[0m\u001b[0m\n\u001b[0;32m----> 2\u001b[0;31m \u001b[0mns\u001b[0m \u001b[0;34m=\u001b[0m \u001b[0mlen\u001b[0m\u001b[0;34m(\u001b[0m\u001b[0msignal\u001b[0m\u001b[0;34m)\u001b[0m\u001b[0;34m\u001b[0m\u001b[0;34m\u001b[0m\u001b[0m\n\u001b[0m\u001b[1;32m      3\u001b[0m \u001b[0mnoise\u001b[0m \u001b[0;34m=\u001b[0m \u001b[0mnp\u001b[0m\u001b[0;34m.\u001b[0m\u001b[0mrandom\u001b[0m\u001b[0;34m.\u001b[0m\u001b[0mnormal\u001b[0m\u001b[0;34m(\u001b[0m\u001b[0msize\u001b[0m\u001b[0;34m=\u001b[0m\u001b[0mns\u001b[0m\u001b[0;34m)\u001b[0m\u001b[0;34m\u001b[0m\u001b[0;34m\u001b[0m\u001b[0m\n\u001b[1;32m      4\u001b[0m \u001b[0;34m\u001b[0m\u001b[0m\n\u001b[1;32m      5\u001b[0m \u001b[0mf\u001b[0m\u001b[0;34m,\u001b[0m \u001b[0mpsd\u001b[0m \u001b[0;34m=\u001b[0m \u001b[0mperiodogram\u001b[0m\u001b[0;34m(\u001b[0m\u001b[0mnoise\u001b[0m\u001b[0;34m,\u001b[0m \u001b[0mfs\u001b[0m\u001b[0;34m)\u001b[0m\u001b[0;34m\u001b[0m\u001b[0;34m\u001b[0m\u001b[0m\n",
      "\u001b[0;31mNameError\u001b[0m: name 'signal' is not defined"
     ]
    }
   ],
   "source": [
    "# Noise\n",
    "ns = len(signal)\n",
    "noise = np.random.normal(size=ns)\n",
    "\n",
    "f, psd = periodogram(noise, fs)\n",
    "\n",
    "# fig, ax = plt.subplots(2,1)\n",
    "# ax[0].plot(noise)\n",
    "# ax[1].plot(f, psd)\n",
    "\n",
    "# psd_av = np.mean(psd)\n",
    "# N0 = 2*psd_av\n",
    "# signal += noise\n",
    "# print(N0)\n",
    "\n",
    "plt.plot(f, psd)\n",
    "plt.xlabel('Frequency')\n",
    "plt.ylabel('Power Spectral Density')\n",
    "plt.savefig('psd.png')"
   ]
  },
  {
   "cell_type": "code",
   "execution_count": 37,
   "metadata": {},
   "outputs": [],
   "source": [
    "# PSK Coherent Binary Receiver\n",
    "t = np.linspace(0, Tb, int(Tb*fs))\n",
    "phi = np.sqrt(2/Tb)*np.sin(2*np.pi*fc*t)\n",
    "N = len(signal) // len(t)\n",
    "# print(N)\n",
    "signala = np.array_split(signal, N)\n",
    "# print(len(signal))\n",
    "received_msg = []\n",
    "for i in signala:\n",
    "    x = i*phi\n",
    "    sm = x.sum()/fs\n",
    "    if sm > 0:\n",
    "        received_msg.append(1)\n",
    "    else:\n",
    "        received_msg.append(0)\n"
   ]
  },
  {
   "cell_type": "code",
   "execution_count": 38,
   "metadata": {},
   "outputs": [
    {
     "data": {
      "text/plain": [
       "((1000000,), (1000000,))"
      ]
     },
     "execution_count": 38,
     "metadata": {},
     "output_type": "execute_result"
    }
   ],
   "source": [
    "msg.shape,np.array(received_msg).shape"
   ]
  },
  {
   "cell_type": "code",
   "execution_count": 39,
   "metadata": {},
   "outputs": [
    {
     "name": "stdout",
     "output_type": "stream",
     "text": [
      "Theoretical Bit Error Probability: 0.012674839074467113\n",
      "Practical Bit Error Probability: 0.055295\n"
     ]
    }
   ],
   "source": [
    "# Bit Error Probability Calculations\n",
    "Pb = norm.sf(np.sqrt(2*Eb/N0))\n",
    "print('Theoretical Bit Error Probability:', Pb)\n",
    "Pb_pr = np.count_nonzero(msg != received_msg) / len(msg)\n",
    "print('Practical Bit Error Probability:', Pb_pr)"
   ]
  },
  {
   "cell_type": "code",
   "execution_count": 46,
   "metadata": {},
   "outputs": [
    {
     "name": "stdout",
     "output_type": "stream",
     "text": [
      "10000000\n"
     ]
    },
    {
     "data": {
      "image/png": "[encoded data removed]",
      "text/plain": [
       "<Figure size 432x288 with 1 Axes>"
      ]
     },
     "metadata": {
      "needs_background": "light"
     },
     "output_type": "display_data"
    }
   ],
   "source": [
    "# PSK Coherent Binary Receiver W Filter\n",
    "t = np.linspace(0, Tb, int(Tb*fs))\n",
    "phi = np.sqrt(2/Tb)*np.sin(2*np.pi*fc*t)\n",
    "N = len(signal) // len(t)\n",
    "# print(N)\n",
    "from filter1 import butter_bandpass_filter\n",
    "from filter1 import butter_lowpass_filter\n",
    "# filteredsig=butter_bandpass_filter(signal,[fc/2,2*fc],fs,order=5)\n",
    "filteredsig=butter_lowpass_filter(signal,fs/2.01,fs,order=3)\n",
    "print(len(filteredsig))\n",
    "plt.plot(filteredsig[100:500])\n",
    "filteredsig = np.array_split(filteredsig, N)\n",
    "\n",
    "received_msg = []\n",
    "for i in filteredsig:\n",
    "    x = i*phi\n",
    "    sm = x.sum()/fs\n",
    "    if sm > 0:\n",
    "        received_msg.append(1)\n",
    "    else:\n",
    "        received_msg.append(0)\n"
   ]
  },
  {
   "cell_type": "code",
   "execution_count": 47,
   "metadata": {},
   "outputs": [
    {
     "name": "stdout",
     "output_type": "stream",
     "text": [
      "Theoretical Bit Error Probability: 0.012674839074467113\n",
      "Practical Bit Error Probability: 0.055483\n"
     ]
    }
   ],
   "source": [
    "received_msg=np.array(received_msg)\n",
    "Pb = norm.sf(np.sqrt(2*Eb/N0))\n",
    "print('Theoretical Bit Error Probability:', Pb)\n",
    "Pb_pr = 0\n",
    "for i in range(len(received_msg)):\n",
    "    if int(msg[i]) != int(received_msg[i]):\n",
    "        Pb_pr += 1\n",
    "Pb_pr /= len(msg)\n",
    "print('Practical Bit Error Probability:', Pb_pr)"
   ]
  },
  {
   "cell_type": "code",
   "execution_count": 48,
   "metadata": {},
   "outputs": [
    {
     "data": {
      "text/plain": [
       "(1000000,)"
      ]
     },
     "execution_count": 48,
     "metadata": {},
     "output_type": "execute_result"
    }
   ],
   "source": [
    "received_msg.shape"
   ]
  },
  {
   "cell_type": "code",
   "execution_count": 49,
   "metadata": {},
   "outputs": [
    {
     "data": {
      "text/plain": [
       "(1000000,)"
      ]
     },
     "execution_count": 49,
     "metadata": {},
     "output_type": "execute_result"
    }
   ],
   "source": [
    "msg.shape"
   ]
  },
  {
   "cell_type": "code",
   "execution_count": null,
   "metadata": {},
   "outputs": [],
   "source": []
  }
 ],
 "metadata": {
  "kernelspec": {
   "display_name": "Python 3",
   "language": "python",
   "name": "python3"
  },
  "language_info": {
   "codemirror_mode": {
    "name": "ipython",
    "version": 3
   },
   "file_extension": ".py",
   "mimetype": "text/x-python",
   "name": "python",
   "nbconvert_exporter": "python",
   "pygments_lexer": "ipython3",
   "version": "3.7.3"
  }
 },
 "nbformat": 4,
 "nbformat_minor": 4
}
