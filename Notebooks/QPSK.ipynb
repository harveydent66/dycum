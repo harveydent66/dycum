{
 "cells": [
  {
   "cell_type": "code",
   "execution_count": 2,
   "metadata": {},
   "outputs": [],
   "source": [
    "import numpy as np\n",
    "from scipy.signal import periodogram\n",
    "from scipy.stats import norm\n",
    "import matplotlib.pyplot as plt"
   ]
  },
  {
   "cell_type": "code",
   "execution_count": 3,
   "metadata": {},
   "outputs": [],
   "source": [
    "# message to be transmitted\n",
    "# msg = np.array([0, 1, 0, 0, 1, 1, 0, 1, 1, 0])\n",
    "msg = np.random.randint(low=0, high=2, size=int(1e6))\n",
    "# print(msg)"
   ]
  },
  {
   "cell_type": "code",
   "execution_count": 4,
   "metadata": {},
   "outputs": [],
   "source": [
    "# Carrier signal\n",
    "f_c = 100.0\n",
    "t_c = 1.0/f_c\n",
    "\n",
    "# Sampling rate\n",
    "f_s = 10000.0\n",
    "t_s = 1.0/f_s\n",
    "\n",
    "# QPSK Parameters\n",
    "Tb = 0.01\n",
    "Eb = 0.001"
   ]
  },
  {
   "cell_type": "code",
   "execution_count": 5,
   "metadata": {
    "scrolled": true
   },
   "outputs": [
    {
     "name": "stdout",
     "output_type": "stream",
     "text": [
      "[[1 1 0 ... 0 1 1]\n",
      " [1 0 1 ... 1 1 1]]\n"
     ]
    }
   ],
   "source": [
    "# Time vector\n",
    "# t = np.arange(0.0, t_c, t_s)\n",
    "t = np.linspace(0.0, Tb, int(Tb*f_s))\n",
    "\n",
    "# Serial to parallel with k=2 (QPSK)\n",
    "symbols = np.array([msg[0::2], msg[1::2]])\n",
    "print(symbols)"
   ]
  },
  {
   "cell_type": "code",
   "execution_count": 6,
   "metadata": {},
   "outputs": [],
   "source": [
    "theta = np.zeros(np.size(symbols, axis=1), dtype='float')\n",
    "for k in range(np.size(symbols, axis=1)):\n",
    "    b_0 = symbols[0,k]\n",
    "    b_1 = symbols[1,k]\n",
    "    # Page 8, Lecture 16\n",
    "    if b_0 == 0 and b_1 == 0:\n",
    "        theta[k] = 7.0*np.math.pi/4.0\n",
    "    elif b_0 == 0 and b_1 == 1:\n",
    "        theta[k] = 5.0*np.math.pi/4.0\n",
    "    elif b_0 == 1 and b_1 == 1:\n",
    "        theta[k] = 3.0*np.math.pi/4.0\n",
    "    elif b_0 == 1 and b_1 == 0:\n",
    "        theta[k] = np.math.pi/4.0"
   ]
  },
  {
   "cell_type": "code",
   "execution_count": 7,
   "metadata": {},
   "outputs": [],
   "source": [
    "# A = 1.0\n",
    "A = np.sqrt(Eb)\n",
    "I = A*np.cos(theta)  # in-phase component\n",
    "Q = A*np.sin(theta)  # quadrature component"
   ]
  },
  {
   "cell_type": "code",
   "execution_count": 8,
   "metadata": {},
   "outputs": [
    {
     "data": {
      "image/png": "[encoded data removed]",
      "text/plain": [
       "<Figure size 432x288 with 1 Axes>"
      ]
     },
     "metadata": {
      "needs_background": "light"
     },
     "output_type": "display_data"
    }
   ],
   "source": [
    "plt.figure()\n",
    "plt.axes().set_aspect('equal', 'datalim') # Makes it look like a circle instead of an ellipse\n",
    "\n",
    "# Time vector for sine and cosine\n",
    "t_csd = np.linspace(0.0, 2.0*np.math.pi, 100)\n",
    "plt.plot(np.sqrt(Eb)*np.sin(t_csd), np.sqrt(Eb)*np.cos(t_csd)) # sqrt(Eb)*sin and sqrt(Eb)*cos\n",
    "plt.plot(I, Q, \"ro\", markersize=12)\n",
    "plt.grid()\n",
    "\n",
    "plt.title(\"Constellation diagram for QPSK\", fontsize=14)\n",
    "plt.tick_params(labelsize=12)\n",
    "plt.show()"
   ]
  },
  {
   "cell_type": "code",
   "execution_count": 9,
   "metadata": {},
   "outputs": [],
   "source": [
    "modulated_signal = np.zeros(np.size(symbols, axis=1)*len(t), dtype='float')\n",
    "phi_1 = np.sqrt(2/Tb)*np.cos(2.0*np.math.pi*f_c*t)\n",
    "phi_2 = np.sqrt(2/Tb)*np.sin(2.0*np.math.pi*f_c*t)\n",
    "for k in range(np.size(symbols, axis=1)):\n",
    "    # Calculates modulated signal for each symbol\n",
    "    # Page 12, Lecture 16\n",
    "    modulated_signal[k*len(t):(k+1)*len(t)] = I[k]*phi_1 - Q[k]*phi_2\n",
    "# print(modulated_signal)"
   ]
  },
  {
   "cell_type": "code",
   "execution_count": 10,
   "metadata": {},
   "outputs": [
    {
     "data": {
      "image/png": "[encoded data removed]",
      "text/plain": [
       "<Figure size 432x288 with 1 Axes>"
      ]
     },
     "metadata": {
      "needs_background": "light"
     },
     "output_type": "display_data"
    }
   ],
   "source": [
    "# Time vector for symbols\n",
    "# t_sym = np.arange(0.0, np.size(symbols, axis=1)*2.0*t_c, t_s)\n",
    "t_sym = np.linspace(0, np.size(symbols, axis=1)*Tb, int(np.size(symbols, axis=1)*Tb*f_s))\n",
    "# print(t_sym)\n",
    "# print(np.size(t_sym, axis=0))\n",
    "\n",
    "plt.figure()\n",
    "\n",
    "plt.title(\"QPSK\", fontsize=14)\n",
    "plt.xlabel(\"t\", fontsize=14)\n",
    "plt.ylabel(\"Amplitude\", fontsize=14)\n",
    "plt.tick_params(labelsize=12)\n",
    "\n",
    "plt.plot(t_sym, modulated_signal)\n",
    "plt.show()"
   ]
  },
  {
   "cell_type": "code",
   "execution_count": 11,
   "metadata": {},
   "outputs": [
    {
     "name": "stdout",
     "output_type": "stream",
     "text": [
      "0.00039988567475363854\n"
     ]
    }
   ],
   "source": [
    "# Noise\n",
    "ns = len(modulated_signal)\n",
    "noise = np.random.normal(size=ns)\n",
    "\n",
    "f, psd = periodogram(noise, f_s)\n",
    "\n",
    "# fig, ax = plt.subplots(2,1)\n",
    "# ax[0].plot(noise)\n",
    "# ax[1].plot(f, psd)\n",
    "\n",
    "psd_av = np.mean(psd)\n",
    "N0 = 2*psd_av\n",
    "modulated_signal += noise\n",
    "print(N0)"
   ]
  },
  {
   "cell_type": "code",
   "execution_count": 12,
   "metadata": {},
   "outputs": [],
   "source": [
    "t = np.linspace(0, Tb, int(Tb*f_s))\n",
    "phi_1 = np.sqrt(2/Tb)*np.cos(2.0*np.math.pi*f_c*t)\n",
    "phi_2 = np.sqrt(2/Tb)*np.sin(2.0*np.math.pi*f_c*t)\n",
    "N = len(modulated_signal) // len(t)\n",
    "split_modulated_signal = np.array_split(modulated_signal, N)\n",
    "received_symbols = [[] for i in range(2)]\n",
    "for i in split_modulated_signal:\n",
    "    s_1 = i*phi_1\n",
    "    s_2 = i*phi_2\n",
    "    x = s_1.sum()/f_s\n",
    "    y = s_2.sum()/f_s\n",
    "    if x > 0 and y > 0:\n",
    "        received_symbols[0].append(0)\n",
    "        received_symbols[1].append(0)\n",
    "    elif x < 0 and y > 0:\n",
    "        received_symbols[0].append(0)\n",
    "        received_symbols[1].append(1)\n",
    "    elif x < 0 and y < 0:\n",
    "        received_symbols[0].append(1)\n",
    "        received_symbols[1].append(1)\n",
    "    elif x > 0 and y < 0:\n",
    "        received_symbols[0].append(1)\n",
    "        received_symbols[1].append(0)"
   ]
  },
  {
   "cell_type": "code",
   "execution_count": 13,
   "metadata": {},
   "outputs": [],
   "source": [
    "received_msg = []\n",
    "for i in range(len(received_symbols[0])):\n",
    "    for j in range(len(received_symbols)):\n",
    "        received_msg.append(received_symbols[j][i])"
   ]
  },
  {
   "cell_type": "code",
   "execution_count": 14,
   "metadata": {},
   "outputs": [
    {
     "data": {
      "text/plain": [
       "(array([1, 1, 1, ..., 1, 1, 1]), array([1, 1, 1, ..., 1, 1, 1]))"
      ]
     },
     "execution_count": 14,
     "metadata": {},
     "output_type": "execute_result"
    }
   ],
   "source": [
    "np.array(received_msg), msg"
   ]
  },
  {
   "cell_type": "code",
   "execution_count": 15,
   "metadata": {},
   "outputs": [
    {
     "name": "stdout",
     "output_type": "stream",
     "text": [
      "Theoretical Bit Error Probability: 0.012663196514264376\n",
      "Practical Bit Error Probability: 0.012763\n"
     ]
    }
   ],
   "source": [
    "# Bit Error Probability Calculations\n",
    "Pb = norm.sf(np.sqrt(2*Eb/N0))\n",
    "print('Theoretical Bit Error Probability:', Pb)\n",
    "Pb_pr = np.count_nonzero(msg != received_msg) / len(msg)\n",
    "print('Practical Bit Error Probability:', Pb_pr)"
   ]
  },
  {
   "cell_type": "code",
   "execution_count": 16,
   "metadata": {},
   "outputs": [
    {
     "name": "stdout",
     "output_type": "stream",
     "text": [
      "0.02532639302852875 0.012663196514264376\n"
     ]
    }
   ],
   "source": [
    "# Symbol Error Probability Calculations\n",
    "k = 2\n",
    "M = 2**k\n",
    "Pe = 2*norm.sf(np.sqrt(2*k*Eb/N0)*np.sin(np.math.pi/M))\n",
    "Pb = Pe/k\n",
    "print(Pe, Pb)"
   ]
  }
 ],
 "metadata": {
  "kernelspec": {
   "display_name": "Python 3",
   "language": "python",
   "name": "python3"
  },
  "language_info": {
   "codemirror_mode": {
    "name": "ipython",
    "version": 3
   },
   "file_extension": ".py",
   "mimetype": "text/x-python",
   "name": "python",
   "nbconvert_exporter": "python",
   "pygments_lexer": "ipython3",
   "version": "3.7.7"
  },
  "latex_envs": {
   "LaTeX_envs_menu_present": true,
   "autoclose": true,
   "autocomplete": true,
   "bibliofile": "biblio.bib",
   "cite_by": "apalike",
   "current_citInitial": 1,
   "eqLabelWithNumbers": true,
   "eqNumInitial": 1,
   "hotkeys": {
    "equation": "Ctrl-E",
    "itemize": "Ctrl-I"
   },
   "labels_anchors": false,
   "latex_user_defs": false,
   "report_style_numbering": false,
   "user_envs_cfg": false
  }
 },
 "nbformat": 4,
 "nbformat_minor": 4
}
